{
 "cells": [
  {
   "cell_type": "markdown",
   "metadata": {},
   "source": [
    "# Trabalho Prático - Python para Ciência de Dados"
   ]
  },
  {
   "cell_type": "markdown",
   "metadata": {},
   "source": [
    "IFMG - Instituto Federal de Educação, Ciência e Tecnologia de Minas Gerais - Especialização em Inteligência Artificial  \n",
    "\n",
    "Mat.: Programação Genética \n",
    "\n",
    "Prof.: Carlos Alexandre Silva\n",
    "\n",
    "Aluno: Christhian da S. Gonçalves "
   ]
  },
  {
   "cell_type": "markdown",
   "metadata": {},
   "source": [
    "## 01 - Sobre o Conjunto de Dados"
   ]
  },
  {
   "cell_type": "markdown",
   "metadata": {},
   "source": [
    "O conjunto de dados de previsão de diabetes é uma coleção de dados médicos e demográficos de pacientes, juntamente com seu status de diabetes (positivo ou negativo). Os dados incluem características como idade, sexo, índice de massa corporal (IMC), hipertensão, doenças cardíacas, histórico de tabagismo, nível de HbA1c e nível de glicose no sangue.\n",
    "\n",
    "Link: https://www.kaggle.com/datasets/iammustafatz/diabetes-prediction-dataset"
   ]
  },
  {
   "cell_type": "markdown",
   "metadata": {},
   "source": [
    "## 02 - Análise exploratória dos dados"
   ]
  },
  {
   "cell_type": "markdown",
   "metadata": {},
   "source": [
    "### 2.1 - Importando Bibliotecas"
   ]
  },
  {
   "cell_type": "code",
   "execution_count": 1,
   "metadata": {},
   "outputs": [
    {
     "name": "stderr",
     "output_type": "stream",
     "text": [
      "c:\\Users\\chris\\AppData\\Local\\Programs\\Python\\Python311\\Lib\\site-packages\\tpot\\builtins\\__init__.py:36: UserWarning: Warning: optional dependency `torch` is not available. - skipping import of NN models.\n",
      "  warnings.warn(\"Warning: optional dependency `torch` is not available. - skipping import of NN models.\")\n"
     ]
    }
   ],
   "source": [
    "#Importando bibliotecas\n",
    "import pandas as pd\n",
    "import numpy as np\n",
    "import matplotlib.pyplot as plt\n",
    "import seaborn as sns\n",
    "from category_encoders import BinaryEncoder\n",
    "\n",
    "\n",
    "from sklearn.preprocessing import StandardScaler,LabelEncoder, OneHotEncoder\n",
    "from sklearn.tree import DecisionTreeClassifier, DecisionTreeRegressor\n",
    "from sklearn.ensemble import RandomForestClassifier, RandomForestRegressor, AdaBoostClassifier, GradientBoostingClassifier\n",
    "from sklearn.neighbors import KNeighborsClassifier, KNeighborsRegressor\n",
    "from sklearn.svm import SVC, SVR\n",
    "from sklearn.model_selection import train_test_split, cross_val_score, GridSearchCV, KFold, cross_val_score\n",
    "from sklearn.linear_model import LinearRegression, LogisticRegression\n",
    "from sklearn.metrics import mean_squared_error, accuracy_score\n",
    "from sklearn.metrics import accuracy_score, classification_report, confusion_matrix, roc_curve, auc, precision_score, recall_score, f1_score\n",
    "from random import randint\n",
    "from sklearn import svm\n",
    "from imblearn.over_sampling import SMOTE\n",
    "from deap import base, creator, tools, algorithms\n",
    "\n",
    "import random\n",
    "import folium\n",
    "import matplotlib.cm as cm\n",
    "import matplotlib.colors as colors\n",
    "import tpot\n",
    "from tpot import TPOTClassifier\n",
    "#permite que os gráficos do Matplotlib sejam exibidos diretamente no notebook\n",
    "%matplotlib inline\n",
    "#import warnings #controla o tratamento de avisos (warnings) durante a execução do código\n",
    "#warnings.filterwarnings(\"ignore\") #ignora avisos durante a execução do código"
   ]
  },
  {
   "cell_type": "markdown",
   "metadata": {},
   "source": [
    "### 2.2 - Importando base de dados"
   ]
  },
  {
   "cell_type": "code",
   "execution_count": 2,
   "metadata": {},
   "outputs": [
    {
     "data": {
      "text/html": [
       "<div>\n",
       "<style scoped>\n",
       "    .dataframe tbody tr th:only-of-type {\n",
       "        vertical-align: middle;\n",
       "    }\n",
       "\n",
       "    .dataframe tbody tr th {\n",
       "        vertical-align: top;\n",
       "    }\n",
       "\n",
       "    .dataframe thead th {\n",
       "        text-align: right;\n",
       "    }\n",
       "</style>\n",
       "<table border=\"1\" class=\"dataframe\">\n",
       "  <thead>\n",
       "    <tr style=\"text-align: right;\">\n",
       "      <th></th>\n",
       "      <th>gender</th>\n",
       "      <th>age</th>\n",
       "      <th>hypertension</th>\n",
       "      <th>heart_disease</th>\n",
       "      <th>smoking_history</th>\n",
       "      <th>bmi</th>\n",
       "      <th>HbA1c_level</th>\n",
       "      <th>blood_glucose_level</th>\n",
       "      <th>diabetes</th>\n",
       "    </tr>\n",
       "  </thead>\n",
       "  <tbody>\n",
       "    <tr>\n",
       "      <th>0</th>\n",
       "      <td>Female</td>\n",
       "      <td>80.0</td>\n",
       "      <td>0</td>\n",
       "      <td>1</td>\n",
       "      <td>never</td>\n",
       "      <td>25.19</td>\n",
       "      <td>6.6</td>\n",
       "      <td>140</td>\n",
       "      <td>0</td>\n",
       "    </tr>\n",
       "    <tr>\n",
       "      <th>1</th>\n",
       "      <td>Female</td>\n",
       "      <td>54.0</td>\n",
       "      <td>0</td>\n",
       "      <td>0</td>\n",
       "      <td>No Info</td>\n",
       "      <td>27.32</td>\n",
       "      <td>6.6</td>\n",
       "      <td>80</td>\n",
       "      <td>0</td>\n",
       "    </tr>\n",
       "    <tr>\n",
       "      <th>2</th>\n",
       "      <td>Male</td>\n",
       "      <td>28.0</td>\n",
       "      <td>0</td>\n",
       "      <td>0</td>\n",
       "      <td>never</td>\n",
       "      <td>27.32</td>\n",
       "      <td>5.7</td>\n",
       "      <td>158</td>\n",
       "      <td>0</td>\n",
       "    </tr>\n",
       "    <tr>\n",
       "      <th>3</th>\n",
       "      <td>Female</td>\n",
       "      <td>36.0</td>\n",
       "      <td>0</td>\n",
       "      <td>0</td>\n",
       "      <td>current</td>\n",
       "      <td>23.45</td>\n",
       "      <td>5.0</td>\n",
       "      <td>155</td>\n",
       "      <td>0</td>\n",
       "    </tr>\n",
       "    <tr>\n",
       "      <th>4</th>\n",
       "      <td>Male</td>\n",
       "      <td>76.0</td>\n",
       "      <td>1</td>\n",
       "      <td>1</td>\n",
       "      <td>current</td>\n",
       "      <td>20.14</td>\n",
       "      <td>4.8</td>\n",
       "      <td>155</td>\n",
       "      <td>0</td>\n",
       "    </tr>\n",
       "  </tbody>\n",
       "</table>\n",
       "</div>"
      ],
      "text/plain": [
       "   gender   age  hypertension  heart_disease smoking_history    bmi  \\\n",
       "0  Female  80.0             0              1           never  25.19   \n",
       "1  Female  54.0             0              0         No Info  27.32   \n",
       "2    Male  28.0             0              0           never  27.32   \n",
       "3  Female  36.0             0              0         current  23.45   \n",
       "4    Male  76.0             1              1         current  20.14   \n",
       "\n",
       "   HbA1c_level  blood_glucose_level  diabetes  \n",
       "0          6.6                  140         0  \n",
       "1          6.6                   80         0  \n",
       "2          5.7                  158         0  \n",
       "3          5.0                  155         0  \n",
       "4          4.8                  155         0  "
      ]
     },
     "execution_count": 2,
     "metadata": {},
     "output_type": "execute_result"
    }
   ],
   "source": [
    "#Importando dados\n",
    "df_diabete = pd.read_csv('https://raw.githubusercontent.com/christhiangoncalves/Machine_Learning_Genetic_Programming/main/Diabetes_Dataset/diabetes_prediction_dataset.csv')\n",
    "df_diabete.head()"
   ]
  },
  {
   "cell_type": "markdown",
   "metadata": {},
   "source": [
    "### 2.3 - Analisando dados"
   ]
  },
  {
   "cell_type": "code",
   "execution_count": 3,
   "metadata": {},
   "outputs": [
    {
     "name": "stdout",
     "output_type": "stream",
     "text": [
      "<class 'pandas.core.frame.DataFrame'>\n",
      "RangeIndex: 100000 entries, 0 to 99999\n",
      "Data columns (total 9 columns):\n",
      " #   Column               Non-Null Count   Dtype  \n",
      "---  ------               --------------   -----  \n",
      " 0   gender               100000 non-null  object \n",
      " 1   age                  100000 non-null  float64\n",
      " 2   hypertension         100000 non-null  int64  \n",
      " 3   heart_disease        100000 non-null  int64  \n",
      " 4   smoking_history      100000 non-null  object \n",
      " 5   bmi                  100000 non-null  float64\n",
      " 6   HbA1c_level          100000 non-null  float64\n",
      " 7   blood_glucose_level  100000 non-null  int64  \n",
      " 8   diabetes             100000 non-null  int64  \n",
      "dtypes: float64(3), int64(4), object(2)\n",
      "memory usage: 6.9+ MB\n"
     ]
    }
   ],
   "source": [
    "#Imformações do tipo dos dados das colunas\n",
    "df_diabete.info()"
   ]
  },
  {
   "cell_type": "code",
   "execution_count": 4,
   "metadata": {},
   "outputs": [
    {
     "data": {
      "text/html": [
       "<div>\n",
       "<style scoped>\n",
       "    .dataframe tbody tr th:only-of-type {\n",
       "        vertical-align: middle;\n",
       "    }\n",
       "\n",
       "    .dataframe tbody tr th {\n",
       "        vertical-align: top;\n",
       "    }\n",
       "\n",
       "    .dataframe thead th {\n",
       "        text-align: right;\n",
       "    }\n",
       "</style>\n",
       "<table border=\"1\" class=\"dataframe\">\n",
       "  <thead>\n",
       "    <tr style=\"text-align: right;\">\n",
       "      <th></th>\n",
       "      <th>count</th>\n",
       "      <th>mean</th>\n",
       "      <th>std</th>\n",
       "      <th>min</th>\n",
       "      <th>25%</th>\n",
       "      <th>50%</th>\n",
       "      <th>75%</th>\n",
       "      <th>max</th>\n",
       "    </tr>\n",
       "  </thead>\n",
       "  <tbody>\n",
       "    <tr>\n",
       "      <th>age</th>\n",
       "      <td>100000.0</td>\n",
       "      <td>41.885856</td>\n",
       "      <td>22.516840</td>\n",
       "      <td>0.08</td>\n",
       "      <td>24.00</td>\n",
       "      <td>43.00</td>\n",
       "      <td>60.00</td>\n",
       "      <td>80.00</td>\n",
       "    </tr>\n",
       "    <tr>\n",
       "      <th>hypertension</th>\n",
       "      <td>100000.0</td>\n",
       "      <td>0.074850</td>\n",
       "      <td>0.263150</td>\n",
       "      <td>0.00</td>\n",
       "      <td>0.00</td>\n",
       "      <td>0.00</td>\n",
       "      <td>0.00</td>\n",
       "      <td>1.00</td>\n",
       "    </tr>\n",
       "    <tr>\n",
       "      <th>heart_disease</th>\n",
       "      <td>100000.0</td>\n",
       "      <td>0.039420</td>\n",
       "      <td>0.194593</td>\n",
       "      <td>0.00</td>\n",
       "      <td>0.00</td>\n",
       "      <td>0.00</td>\n",
       "      <td>0.00</td>\n",
       "      <td>1.00</td>\n",
       "    </tr>\n",
       "    <tr>\n",
       "      <th>bmi</th>\n",
       "      <td>100000.0</td>\n",
       "      <td>27.320767</td>\n",
       "      <td>6.636783</td>\n",
       "      <td>10.01</td>\n",
       "      <td>23.63</td>\n",
       "      <td>27.32</td>\n",
       "      <td>29.58</td>\n",
       "      <td>95.69</td>\n",
       "    </tr>\n",
       "    <tr>\n",
       "      <th>HbA1c_level</th>\n",
       "      <td>100000.0</td>\n",
       "      <td>5.527507</td>\n",
       "      <td>1.070672</td>\n",
       "      <td>3.50</td>\n",
       "      <td>4.80</td>\n",
       "      <td>5.80</td>\n",
       "      <td>6.20</td>\n",
       "      <td>9.00</td>\n",
       "    </tr>\n",
       "    <tr>\n",
       "      <th>blood_glucose_level</th>\n",
       "      <td>100000.0</td>\n",
       "      <td>138.058060</td>\n",
       "      <td>40.708136</td>\n",
       "      <td>80.00</td>\n",
       "      <td>100.00</td>\n",
       "      <td>140.00</td>\n",
       "      <td>159.00</td>\n",
       "      <td>300.00</td>\n",
       "    </tr>\n",
       "    <tr>\n",
       "      <th>diabetes</th>\n",
       "      <td>100000.0</td>\n",
       "      <td>0.085000</td>\n",
       "      <td>0.278883</td>\n",
       "      <td>0.00</td>\n",
       "      <td>0.00</td>\n",
       "      <td>0.00</td>\n",
       "      <td>0.00</td>\n",
       "      <td>1.00</td>\n",
       "    </tr>\n",
       "  </tbody>\n",
       "</table>\n",
       "</div>"
      ],
      "text/plain": [
       "                        count        mean        std    min     25%     50%  \\\n",
       "age                  100000.0   41.885856  22.516840   0.08   24.00   43.00   \n",
       "hypertension         100000.0    0.074850   0.263150   0.00    0.00    0.00   \n",
       "heart_disease        100000.0    0.039420   0.194593   0.00    0.00    0.00   \n",
       "bmi                  100000.0   27.320767   6.636783  10.01   23.63   27.32   \n",
       "HbA1c_level          100000.0    5.527507   1.070672   3.50    4.80    5.80   \n",
       "blood_glucose_level  100000.0  138.058060  40.708136  80.00  100.00  140.00   \n",
       "diabetes             100000.0    0.085000   0.278883   0.00    0.00    0.00   \n",
       "\n",
       "                        75%     max  \n",
       "age                   60.00   80.00  \n",
       "hypertension           0.00    1.00  \n",
       "heart_disease          0.00    1.00  \n",
       "bmi                   29.58   95.69  \n",
       "HbA1c_level            6.20    9.00  \n",
       "blood_glucose_level  159.00  300.00  \n",
       "diabetes               0.00    1.00  "
      ]
     },
     "execution_count": 4,
     "metadata": {},
     "output_type": "execute_result"
    }
   ],
   "source": [
    "#Descrição estatistica dos dados\n",
    "df_diabete.describe().T"
   ]
  },
  {
   "cell_type": "code",
   "execution_count": 5,
   "metadata": {},
   "outputs": [
    {
     "data": {
      "text/plain": [
       "gender                 0\n",
       "age                    0\n",
       "hypertension           0\n",
       "heart_disease          0\n",
       "smoking_history        0\n",
       "bmi                    0\n",
       "HbA1c_level            0\n",
       "blood_glucose_level    0\n",
       "diabetes               0\n",
       "dtype: int64"
      ]
     },
     "execution_count": 5,
     "metadata": {},
     "output_type": "execute_result"
    }
   ],
   "source": [
    "#verificação se existem dados nulos\n",
    "df_diabete.isnull().sum()"
   ]
  },
  {
   "cell_type": "code",
   "execution_count": 6,
   "metadata": {},
   "outputs": [
    {
     "data": {
      "text/plain": [
       "3854"
      ]
     },
     "execution_count": 6,
     "metadata": {},
     "output_type": "execute_result"
    }
   ],
   "source": [
    "#Verifica numero de linhas duplicadas\n",
    "df_diabete.duplicated().sum()"
   ]
  },
  {
   "cell_type": "code",
   "execution_count": 7,
   "metadata": {},
   "outputs": [],
   "source": [
    "#Excluindo 3854 linhas duplicadas\n",
    "df_diabete.drop_duplicates(inplace=True)"
   ]
  },
  {
   "cell_type": "markdown",
   "metadata": {},
   "source": [
    "### 2.4 Plotando Gráficos"
   ]
  },
  {
   "cell_type": "code",
   "execution_count": 8,
   "metadata": {},
   "outputs": [
    {
     "data": {
      "text/plain": [
       "'sns.countplot(x=\"gender\", data=df_diabete)\\nplt.title(\"Gender Distribution\")\\nplt.show()\\n\\nsns.countplot(x=\"hypertension\", data=df_diabete)\\nplt.title(\"Hypertension Distribution\")\\nplt.show()\\n\\nsns.countplot(x=\"heart_disease\", data=df_diabete)\\nplt.title(\"Heart Disease Distribution\")\\nplt.show()\\n\\nsns.countplot(x=\"smoking_history\", data=df_diabete)\\nplt.title(\"Smoking History Distribution\")\\nplt.show()'"
      ]
     },
     "execution_count": 8,
     "metadata": {},
     "output_type": "execute_result"
    }
   ],
   "source": [
    "'''sns.countplot(x=\"gender\", data=df_diabete)\n",
    "plt.title(\"Gender Distribution\")\n",
    "plt.show()\n",
    "\n",
    "sns.countplot(x=\"hypertension\", data=df_diabete)\n",
    "plt.title(\"Hypertension Distribution\")\n",
    "plt.show()\n",
    "\n",
    "sns.countplot(x=\"heart_disease\", data=df_diabete)\n",
    "plt.title(\"Heart Disease Distribution\")\n",
    "plt.show()\n",
    "\n",
    "sns.countplot(x=\"smoking_history\", data=df_diabete)\n",
    "plt.title(\"Smoking History Distribution\")\n",
    "plt.show()'''"
   ]
  },
  {
   "cell_type": "code",
   "execution_count": 9,
   "metadata": {},
   "outputs": [
    {
     "data": {
      "text/plain": [
       "smoking_history\n",
       "No Info        32887\n",
       "current         9197\n",
       "ever            3998\n",
       "former          9299\n",
       "never          34398\n",
       "not current     6367\n",
       "Name: smoking_history, dtype: int64"
      ]
     },
     "metadata": {},
     "output_type": "display_data"
    },
    {
     "data": {
      "text/plain": [
       "smoking_history_encoded\n",
       "0    32887\n",
       "1     9197\n",
       "2     3998\n",
       "3     9299\n",
       "4    34398\n",
       "5     6367\n",
       "Name: smoking_history_encoded, dtype: int64"
      ]
     },
     "metadata": {},
     "output_type": "display_data"
    }
   ],
   "source": [
    "#Codificando as colunas do genero e histórico de fumante\n",
    "le = LabelEncoder()\n",
    "df_temp = df_diabete.groupby('smoking_history')['smoking_history'].count()\n",
    "df_diabete[\"gender_encoded\"] = le.fit_transform(df_diabete[\"gender\"])\n",
    "df_diabete[\"smoking_history_encoded\"] = le.fit_transform(df_diabete[\"smoking_history\"])\n",
    "\n",
    "#Excluindo colunas \"gender\" e \"smoking_history\", pois foi criado colunas codificadas\n",
    "del df_diabete[\"smoking_history\"]\n",
    "del df_diabete[\"gender\"]\n",
    "\n",
    "display(df_temp,df_diabete.groupby('smoking_history_encoded')['smoking_history_encoded'].count())\n"
   ]
  },
  {
   "cell_type": "code",
   "execution_count": 10,
   "metadata": {},
   "outputs": [
    {
     "data": {
      "text/plain": [
       "\"plot1 = ['diabetes','age', 'hypertension','heart_disease']\\nplot2 = ['diabetes','bmi','HbA1c_level','blood_glucose_level']\\nplot3 = ['diabetes','gender_encoded','smoking_history_encoded']\\nsns.pairplot(df_diabete[plot1],hue= 'diabetes')\""
      ]
     },
     "execution_count": 10,
     "metadata": {},
     "output_type": "execute_result"
    }
   ],
   "source": [
    "'''plot1 = ['diabetes','age', 'hypertension','heart_disease']\n",
    "plot2 = ['diabetes','bmi','HbA1c_level','blood_glucose_level']\n",
    "plot3 = ['diabetes','gender_encoded','smoking_history_encoded']\n",
    "sns.pairplot(df_diabete[plot1],hue= 'diabetes')'''"
   ]
  },
  {
   "cell_type": "markdown",
   "metadata": {},
   "source": [
    "Pode-se verificar as seguintes relações:\n",
    "- Quanto maior a idade, maior a frequência de diabetes.\n",
    "- Quanto maor a idade e possui hipertensão, maoior é a incidência de diabetes.\n",
    "- Quanto maor a idade e possui doênça do coração, maoior é a incidência de diabetes."
   ]
  },
  {
   "cell_type": "code",
   "execution_count": 11,
   "metadata": {},
   "outputs": [
    {
     "data": {
      "text/plain": [
       "\"sns.pairplot(df_diabete[plot2],hue= 'diabetes')\""
      ]
     },
     "execution_count": 11,
     "metadata": {},
     "output_type": "execute_result"
    }
   ],
   "source": [
    "'''sns.pairplot(df_diabete[plot2],hue= 'diabetes')'''"
   ]
  },
  {
   "cell_type": "markdown",
   "metadata": {},
   "source": [
    "É possivel notar uma grande correlação entre os rotulos de dados acima, onde temos:\n",
    "Quanto maior a glicose e o nível de HbA1C(Hemoglobina Glicada) no sangue maior o indice de diabéticos.\n",
    "O bmi(indice de massa corporal) não possui uma relação forte com quantidade de diabéticos "
   ]
  },
  {
   "cell_type": "code",
   "execution_count": 12,
   "metadata": {},
   "outputs": [
    {
     "data": {
      "text/plain": [
       "\"sns.pairplot(df_diabete[plot3],hue= 'diabetes')\""
      ]
     },
     "execution_count": 12,
     "metadata": {},
     "output_type": "execute_result"
    }
   ],
   "source": [
    "'''sns.pairplot(df_diabete[plot3],hue= 'diabetes')'''"
   ]
  },
  {
   "cell_type": "markdown",
   "metadata": {},
   "source": [
    "Pode-se verificar as seguintes relações:\n",
    "- Indice de diabetes é independente do genero\n",
    "- Indice de diabetes é independente se é fumante ou não, porém ocorre um leve aumento de diabétes com os ex fumantes e não fumantes."
   ]
  },
  {
   "cell_type": "code",
   "execution_count": 13,
   "metadata": {},
   "outputs": [
    {
     "data": {
      "text/plain": [
       "\"plt.figure(figsize=(12,8))\\nsns.heatmap(df_diabete.corr(),annot=True,cmap='coolwarm')\\nplt.title('Correlation Heatmap')\""
      ]
     },
     "execution_count": 13,
     "metadata": {},
     "output_type": "execute_result"
    }
   ],
   "source": [
    "#Mapa de Correlação\n",
    "'''plt.figure(figsize=(12,8))\n",
    "sns.heatmap(df_diabete.corr(),annot=True,cmap='coolwarm')\n",
    "plt.title('Correlation Heatmap')'''"
   ]
  },
  {
   "cell_type": "markdown",
   "metadata": {},
   "source": [
    "# 03 - Modelo de programação genética"
   ]
  },
  {
   "cell_type": "markdown",
   "metadata": {},
   "source": [
    "### 3.1 - Seleção de Caracteristicas (Features)"
   ]
  },
  {
   "cell_type": "markdown",
   "metadata": {},
   "source": [
    "Na seleção de caracteristicas é utilizado as funções abaixo para verificar qual o modelo de classificação que melhor se adapta para a classificação dos dados selecionados. O mesmo retorna um score de pontuação que mostra um rank para os modelos listados."
   ]
  },
  {
   "cell_type": "code",
   "execution_count": 40,
   "metadata": {},
   "outputs": [],
   "source": [
    "#Definição de funções\n",
    "classifiers = ['LinearSVM', 'RadialSVM',\n",
    "               'Logistic',  'RandomForest',\n",
    "               'AdaBoost',  'DecisionTree',\n",
    "               'KNeighbors','GradientBoosting']\n",
    "\n",
    "models = [svm.SVC(kernel='linear'),\n",
    "          svm.SVC(kernel='rbf'),\n",
    "          LogisticRegression(max_iter = 1000),\n",
    "          RandomForestClassifier(n_estimators=200, random_state=0),\n",
    "          AdaBoostClassifier(random_state = 0),\n",
    "          DecisionTreeClassifier(random_state=0),\n",
    "          KNeighborsClassifier(),\n",
    "          GradientBoostingClassifier(random_state=0)]\n",
    "\n",
    "\n",
    "def acc_score(df,label):\n",
    "    Score = pd.DataFrame({\"Classificador\":classifiers})\n",
    "    j = 0\n",
    "    acc = []\n",
    "    X_train,X_test,Y_train,Y_test = train_test_split(df, label, test_size=0.25, random_state=42)\n",
    "    for i in models:\n",
    "        model = i\n",
    "        model.fit(X_train,Y_train)\n",
    "        predictions = model.predict(X_test)\n",
    "        acc.append(accuracy_score(Y_test,predictions))\n",
    "        j = j+1\n",
    "    Score[\"Acurácia\"] = acc\n",
    "    Score.sort_values(by=\"Acurácia\", ascending=False,inplace = True)\n",
    "    Score.reset_index(drop=True, inplace=True)\n",
    "    return Score\n"
   ]
  },
  {
   "cell_type": "code",
   "execution_count": 41,
   "metadata": {},
   "outputs": [],
   "source": [
    "#Funções de machine learning - programação genetica\n",
    "\n",
    "#Função de Gerações\n",
    "\"\"\" A função inicializa uma população, avalia a aptidão, executa a seleção, cruzamento e mutação para \n",
    "cada geração. Logo após retorna a geração e seu score de   \"\"\"\n",
    "def generations(df,label,size,n_feat,n_parents,mutation_rate,n_gen,X_train,\n",
    "                                   X_test, Y_train, Y_test):\n",
    "    best_chromo= []\n",
    "    best_score= []\n",
    "    population_nextgen = initilization_of_population(size,n_feat)\n",
    "    for i in range(n_gen):\n",
    "        scores, pop_after_fit = fitness_score(population_nextgen)\n",
    "        print('Melhor score da geração',i+1,':',scores[:1])  #2\n",
    "        pop_after_sel = selection(pop_after_fit,n_parents)\n",
    "        pop_after_cross = crossover(pop_after_sel)\n",
    "        population_nextgen = mutation(pop_after_cross,mutation_rate,n_feat)\n",
    "        best_chromo.append(pop_after_fit[0])\n",
    "        best_score.append(scores[0])\n",
    "    return best_chromo,best_score\n",
    "\n",
    "#Função para iniciar a população aleatória\n",
    "\"\"\" Essa função cria uma população inicial aleatória de cromossomos booleanos com um conjunto específico\n",
    "de características ativadas e desativadas. A partir dessa população inicial, um algoritmo de \n",
    "Programação Genética pode evoluir esses indivíduos por meio de seleção, cruzamento (recombinação) e \n",
    "mutação para encontrar soluções melhores ao longo das gerações. \"\"\"\n",
    "def initilization_of_population(size,n_feat):\n",
    "    population = []\n",
    "    for i in range(size):\n",
    "        chromosome = np.ones(n_feat,dtype=bool) \n",
    "        chromosome[:int(0.3*n_feat)]=False\n",
    "        np.random.shuffle(chromosome)\n",
    "        population.append(chromosome)\n",
    "    return population\n",
    "\n",
    "#Função de aptidão\n",
    "\"\"\" Avalia a pontuação de aptidão de cada cromossomo na população.Para cada cromossomo, o algoritmo\n",
    "ajusta um modelo GradientBoostingClassifier usando as características ativadas e calcula a \n",
    "acurácia do modelo no conjunto de teste.  \"\"\"\n",
    "def fitness_score(population):\n",
    "    scores = []\n",
    "    for chromosome in population:\n",
    "        logmodel.fit(X_train.iloc[:,chromosome],Y_train)\n",
    "        predictions = logmodel.predict(X_test.iloc[:,chromosome])\n",
    "        scores.append(accuracy_score(Y_test,predictions))\n",
    "    scores, population = np.array(scores), np.array(population)\n",
    "    inds = np.argsort(scores)\n",
    "    return list(scores[inds][::-1]), list(population[inds,:][::-1])\n",
    "\n",
    "#Função de Seleção\n",
    "\"\"\" Seleciona os melhores cromossomos da população com base em suas pontuações de aptidão. Os 'n_parents' \n",
    "cromossomos com as maiores pontuações de aptidão são selecionados para a próxima geração.\"\"\"\n",
    "def selection(pop_after_fit,n_parents): \n",
    "    population_nextgen = []\n",
    "    for i in range(n_parents):\n",
    "        population_nextgen.append(pop_after_fit[i])\n",
    "    return population_nextgen\n",
    "\n",
    "#Função de Cruzamento\n",
    "\"\"\" Realiza o cruzamento (recombinação) entre os cromossomos selecionados para gerar novos cromossomos\n",
    "para a próxima geração. \"\"\"\n",
    "def crossover(pop_after_sel):\n",
    "    pop_nextgen = pop_after_sel\n",
    "    for i in range(0,len(pop_after_sel),2):\n",
    "        new_par = []\n",
    "        child_1 , child_2 = pop_nextgen[i] , pop_nextgen[i+1]\n",
    "        new_par = np.concatenate((child_1[:len(child_1)//2],child_2[len(child_1)//2:]))\n",
    "        pop_nextgen.append(new_par)\n",
    "    return pop_nextgen\n",
    "\n",
    "#Função de Mutação\n",
    "\"\"\" Realiza mutação nos cromossomos da população após o cruzamento. A mutação ocorre com uma taxa de \n",
    "mutation_rate, onde algumas características são alternadas entre ativadas e desativadas aleatoriamente. \"\"\"\n",
    "def mutation(pop_after_cross,mutation_rate,n_feat):\n",
    "    mutation_range = int(mutation_rate*n_feat)\n",
    "    pop_next_gen = []\n",
    "    for n in range(0,len(pop_after_cross)):\n",
    "        chromo = pop_after_cross[n]\n",
    "        rand_posi = []\n",
    "        for i in range(0,mutation_range):\n",
    "            pos = randint(0,n_feat-1)\n",
    "            rand_posi.append(pos)\n",
    "        for j in rand_posi:\n",
    "            chromo[j] = not chromo[j]\n",
    "        pop_next_gen.append(chromo)\n",
    "    return pop_next_gen\n",
    "\n"
   ]
  },
  {
   "cell_type": "code",
   "execution_count": 16,
   "metadata": {},
   "outputs": [
    {
     "name": "stdout",
     "output_type": "stream",
     "text": [
      "Dataset de diabetes:\n",
      " 96146 Registros\n",
      " 9 Atributos\n"
     ]
    }
   ],
   "source": [
    "#dividindo base em 2 dataframes\n",
    "#df_diabete.reset_index(drop=True, inplace=True)\n",
    "x = df_diabete.drop(['diabetes'],axis=1)\n",
    "y = df_diabete['diabetes']\n",
    "\n",
    "\n",
    "\n",
    "print(\"Dataset de diabetes:\\n\",df_diabete.shape[0],\"Registros\\n\",df_diabete.shape[1],\"Atributos\")"
   ]
  },
  {
   "cell_type": "code",
   "execution_count": 17,
   "metadata": {},
   "outputs": [
    {
     "data": {
      "text/html": [
       "<div>\n",
       "<style scoped>\n",
       "    .dataframe tbody tr th:only-of-type {\n",
       "        vertical-align: middle;\n",
       "    }\n",
       "\n",
       "    .dataframe tbody tr th {\n",
       "        vertical-align: top;\n",
       "    }\n",
       "\n",
       "    .dataframe thead th {\n",
       "        text-align: right;\n",
       "    }\n",
       "</style>\n",
       "<table border=\"1\" class=\"dataframe\">\n",
       "  <thead>\n",
       "    <tr style=\"text-align: right;\">\n",
       "      <th></th>\n",
       "      <th>Classificador</th>\n",
       "      <th>Acurácia</th>\n",
       "    </tr>\n",
       "  </thead>\n",
       "  <tbody>\n",
       "    <tr>\n",
       "      <th>0</th>\n",
       "      <td>GradientBoosting</td>\n",
       "      <td>0.970753</td>\n",
       "    </tr>\n",
       "    <tr>\n",
       "      <th>1</th>\n",
       "      <td>AdaBoost</td>\n",
       "      <td>0.970712</td>\n",
       "    </tr>\n",
       "    <tr>\n",
       "      <th>2</th>\n",
       "      <td>RandomForest</td>\n",
       "      <td>0.968798</td>\n",
       "    </tr>\n",
       "    <tr>\n",
       "      <th>3</th>\n",
       "      <td>LinearSVM</td>\n",
       "      <td>0.957773</td>\n",
       "    </tr>\n",
       "    <tr>\n",
       "      <th>4</th>\n",
       "      <td>Logistic</td>\n",
       "      <td>0.957441</td>\n",
       "    </tr>\n",
       "    <tr>\n",
       "      <th>5</th>\n",
       "      <td>KNeighbors</td>\n",
       "      <td>0.951491</td>\n",
       "    </tr>\n",
       "    <tr>\n",
       "      <th>6</th>\n",
       "      <td>DecisionTree</td>\n",
       "      <td>0.949453</td>\n",
       "    </tr>\n",
       "    <tr>\n",
       "      <th>7</th>\n",
       "      <td>RadialSVM</td>\n",
       "      <td>0.945501</td>\n",
       "    </tr>\n",
       "  </tbody>\n",
       "</table>\n",
       "</div>"
      ],
      "text/plain": [
       "      Classificador  Acurácia\n",
       "0  GradientBoosting  0.970753\n",
       "1          AdaBoost  0.970712\n",
       "2      RandomForest  0.968798\n",
       "3         LinearSVM  0.957773\n",
       "4          Logistic  0.957441\n",
       "5        KNeighbors  0.951491\n",
       "6      DecisionTree  0.949453\n",
       "7         RadialSVM  0.945501"
      ]
     },
     "execution_count": 17,
     "metadata": {},
     "output_type": "execute_result"
    }
   ],
   "source": [
    "#Verificando qual melhor classificador\n",
    "score = acc_score(x,y)\n",
    "score"
   ]
  },
  {
   "cell_type": "code",
   "execution_count": 46,
   "metadata": {},
   "outputs": [],
   "source": [
    "#Divide os dataframes x e y em bases de treino e teste. \n",
    "X_train,X_test,Y_train,Y_test = train_test_split(x,y,test_size=0.3,random_state=42)\n"
   ]
  },
  {
   "cell_type": "code",
   "execution_count": 19,
   "metadata": {},
   "outputs": [
    {
     "name": "stdout",
     "output_type": "stream",
     "text": [
      "Melhor score da geração 1 : [0.9711551795867425]\n",
      "Melhor score da geração 2 : [0.9710511718208293]\n",
      "Melhor score da geração 3 : [0.9710511718208293]\n",
      "Melhor score da geração 4 : [0.9711551795867425]\n",
      "Melhor score da geração 5 : [0.9710511718208293]\n"
     ]
    }
   ],
   "source": [
    "#Mostra a acuracia das 5 gerações geradas\n",
    "logmodel = GradientBoostingClassifier(n_estimators=50, random_state=0)\n",
    "chromo_df_diabetes, score_df_diabetes = generations(x,y,size=26,n_feat=x.shape[1],n_parents=15,mutation_rate=0.20,n_gen=5,\n",
    "                        X_train = X_train, X_test = X_test,Y_train = Y_train,Y_test = Y_test)"
   ]
  },
  {
   "cell_type": "code",
   "execution_count": 20,
   "metadata": {},
   "outputs": [
    {
     "data": {
      "image/png": "[encoded data removed]",
      "text/plain": [
       "<Figure size 600x400 with 1 Axes>"
      ]
     },
     "metadata": {},
     "output_type": "display_data"
    }
   ],
   "source": [
    "#Comparação de acurácia\n",
    "plot(score_df_diabetes,0.9,1,c = \"blue\")"
   ]
  },
  {
   "cell_type": "code",
   "execution_count": 47,
   "metadata": {},
   "outputs": [
    {
     "data": {
      "text/plain": [
       "'Melhor cromossomo: '"
      ]
     },
     "metadata": {},
     "output_type": "display_data"
    },
    {
     "data": {
      "text/plain": [
       "array([ True,  True,  True,  True,  True,  True,  True, False])"
      ]
     },
     "metadata": {},
     "output_type": "display_data"
    },
    {
     "data": {
      "text/plain": [
       "'Colunas:'"
      ]
     },
     "metadata": {},
     "output_type": "display_data"
    },
    {
     "data": {
      "text/html": [
       "<div>\n",
       "<style scoped>\n",
       "    .dataframe tbody tr th:only-of-type {\n",
       "        vertical-align: middle;\n",
       "    }\n",
       "\n",
       "    .dataframe tbody tr th {\n",
       "        vertical-align: top;\n",
       "    }\n",
       "\n",
       "    .dataframe thead th {\n",
       "        text-align: right;\n",
       "    }\n",
       "</style>\n",
       "<table border=\"1\" class=\"dataframe\">\n",
       "  <thead>\n",
       "    <tr style=\"text-align: right;\">\n",
       "      <th></th>\n",
       "      <th>age</th>\n",
       "      <th>hypertension</th>\n",
       "      <th>heart_disease</th>\n",
       "      <th>bmi</th>\n",
       "      <th>HbA1c_level</th>\n",
       "      <th>blood_glucose_level</th>\n",
       "      <th>gender_encoded</th>\n",
       "      <th>smoking_history_encoded</th>\n",
       "    </tr>\n",
       "  </thead>\n",
       "  <tbody>\n",
       "    <tr>\n",
       "      <th>0</th>\n",
       "      <td>80.0</td>\n",
       "      <td>0</td>\n",
       "      <td>1</td>\n",
       "      <td>25.19</td>\n",
       "      <td>6.6</td>\n",
       "      <td>140</td>\n",
       "      <td>0</td>\n",
       "      <td>4</td>\n",
       "    </tr>\n",
       "    <tr>\n",
       "      <th>1</th>\n",
       "      <td>54.0</td>\n",
       "      <td>0</td>\n",
       "      <td>0</td>\n",
       "      <td>27.32</td>\n",
       "      <td>6.6</td>\n",
       "      <td>80</td>\n",
       "      <td>0</td>\n",
       "      <td>0</td>\n",
       "    </tr>\n",
       "    <tr>\n",
       "      <th>2</th>\n",
       "      <td>28.0</td>\n",
       "      <td>0</td>\n",
       "      <td>0</td>\n",
       "      <td>27.32</td>\n",
       "      <td>5.7</td>\n",
       "      <td>158</td>\n",
       "      <td>1</td>\n",
       "      <td>4</td>\n",
       "    </tr>\n",
       "    <tr>\n",
       "      <th>3</th>\n",
       "      <td>36.0</td>\n",
       "      <td>0</td>\n",
       "      <td>0</td>\n",
       "      <td>23.45</td>\n",
       "      <td>5.0</td>\n",
       "      <td>155</td>\n",
       "      <td>0</td>\n",
       "      <td>1</td>\n",
       "    </tr>\n",
       "    <tr>\n",
       "      <th>4</th>\n",
       "      <td>76.0</td>\n",
       "      <td>1</td>\n",
       "      <td>1</td>\n",
       "      <td>20.14</td>\n",
       "      <td>4.8</td>\n",
       "      <td>155</td>\n",
       "      <td>1</td>\n",
       "      <td>1</td>\n",
       "    </tr>\n",
       "  </tbody>\n",
       "</table>\n",
       "</div>"
      ],
      "text/plain": [
       "    age  hypertension  heart_disease    bmi  HbA1c_level  blood_glucose_level  \\\n",
       "0  80.0             0              1  25.19          6.6                  140   \n",
       "1  54.0             0              0  27.32          6.6                   80   \n",
       "2  28.0             0              0  27.32          5.7                  158   \n",
       "3  36.0             0              0  23.45          5.0                  155   \n",
       "4  76.0             1              1  20.14          4.8                  155   \n",
       "\n",
       "   gender_encoded  smoking_history_encoded  \n",
       "0               0                        4  \n",
       "1               0                        0  \n",
       "2               1                        4  \n",
       "3               0                        1  \n",
       "4               1                        1  "
      ]
     },
     "metadata": {},
     "output_type": "display_data"
    }
   ],
   "source": [
    "#Mostra quais as features são relevantes no cromossomo com melhor pontuação das 5 gerações geradas. Auxilia na redução de features do modelo.\n",
    "#Melhor score da geração 3 : [0.9707534218080459]\n",
    "display('Melhor cromossomo: ',chromo_df_diabetes[2], 'Colunas:',x.head())"
   ]
  },
  {
   "cell_type": "code",
   "execution_count": 48,
   "metadata": {},
   "outputs": [],
   "source": [
    "# Função para avaliar a aptidão do indivíduo para seleção de características. \n",
    "\"\"\" A função evaluate() recebe um cromossomo como entrada, seleciona os recursos (características) com valor \"1\" no cromossomo e,\n",
    "em seguida, treina o modelo utilizando apenas esses recursos para realizar a classificação. Por fim, a função retorna a \n",
    "pontuação de aptidão do modelo com base nas previsões feitas nos dados de teste. \"\"\"\n",
    "def evaluate(individual):\n",
    "    selected_features = [index for index in range(len(individual)) if individual[index] == 1]\n",
    "    X_train_selected = X_train.iloc[:, selected_features]\n",
    "    X_test_selected = X_test.iloc[:, selected_features]\n",
    "    clf = GradientBoostingClassifier()\n",
    "    clf.fit(X_train_selected, Y_train)\n",
    "    y_pred = clf.predict(X_test_selected)\n",
    "    return accuracy_score(Y_test, y_pred),"
   ]
  },
  {
   "cell_type": "code",
   "execution_count": 49,
   "metadata": {},
   "outputs": [],
   "source": [
    "# Para remover  as classes FitnessMax e Individual se já estiverem presentes\n",
    "if 'FitnessMax' in globals():\n",
    "    del globals()['FitnessMax']\n",
    "if 'Individual' in globals():\n",
    "    del globals()['Individual']"
   ]
  },
  {
   "cell_type": "code",
   "execution_count": 50,
   "metadata": {},
   "outputs": [
    {
     "name": "stderr",
     "output_type": "stream",
     "text": [
      "c:\\Users\\chris\\AppData\\Local\\Programs\\Python\\Python311\\Lib\\site-packages\\deap\\creator.py:185: RuntimeWarning: A class named 'FitnessMax' has already been created and it will be overwritten. Consider deleting previous creation of that class or rename it.\n",
      "  warnings.warn(\"A class named '{0}' has already been created and it \"\n",
      "c:\\Users\\chris\\AppData\\Local\\Programs\\Python\\Python311\\Lib\\site-packages\\deap\\creator.py:185: RuntimeWarning: A class named 'Individual' has already been created and it will be overwritten. Consider deleting previous creation of that class or rename it.\n",
      "  warnings.warn(\"A class named '{0}' has already been created and it \"\n"
     ]
    }
   ],
   "source": [
    "#define os componentes necessários para utilizar a biblioteca 'deap' em um algoritmo de programação genética\n",
    "creator.create(\"FitnessMax\", base.Fitness, weights=(1.0,)) #cria um novo tipo chamado FitnessMax, que herda da classe 'base.Fitness' da biblioteca deap. peso (1.0,), para problema de maximização (maximizar a precisão)\n",
    "creator.create(\"Individual\", list, fitness=creator.FitnessMax) #cria um novo tipo chamado 'Individual', que é uma lista e terá um atributo fitness do tipo FitnessMax que criado anteriormente. cada indivíduo terá uma lista de valores binários representando o cromossomo e um atributo\n",
    "toolbox = base.Toolbox() #Cria uma instância da classe 'base.Toolbox()' para registrar as funções e operadores que serão usados no algoritmo genético.\n",
    "toolbox.register(\"attr_bool\", random.randint, 0, 1) #função usada para gerar aleatoriamente valores binários que serão usados para criar os cromossomos dos indivíduos.\n",
    "toolbox.register(\"individual\", tools.initRepeat, creator.Individual, toolbox.attr_bool, n=len(x.columns)) # criar indivíduos do tipo Individual\n",
    "toolbox.register(\"population\", tools.initRepeat, list, toolbox.individual) #criar uma população, que é uma lista de indivíduos\n",
    "toolbox.register(\"evaluate\", evaluate) #Mede a aptidão de cada indivíduo.\n",
    "toolbox.register(\"mate\", tools.cxTwoPoint) #cruzamento dos indivíduos para a evolução da população.\n",
    "toolbox.register(\"mutate\", tools.mutFlipBit, indpb=0.05) #Operador inverte aleatoriamente alguns bits nos cromossomos dos indivíduos.\n",
    "toolbox.register(\"select\", tools.selTournament, tournsize=3) #seleciona indivíduos com base em um torneio entre 3 indivíduos\n",
    "\n",
    "#Os componentes registrados no toolbox são essenciais para realizar a evolução dos cromossomos e encontrar um conjunto de recursos que maximize a precisão do modelo usando a programação genética."
   ]
  },
  {
   "cell_type": "code",
   "execution_count": 32,
   "metadata": {},
   "outputs": [
    {
     "name": "stdout",
     "output_type": "stream",
     "text": [
      "Melhor indivíduo: [1, 1, 1, 1, 1, 1, 0, 0]\n"
     ]
    }
   ],
   "source": [
    "# Definindo o algoritmo genético\n",
    "population_size = 50\n",
    "generations = 10\n",
    "population = toolbox.population(n = population_size)\n",
    "for gen in range(generations):\n",
    "    offspring = algorithms.varAnd(population, toolbox, cxpb = 0.5, mutpb = 0.1)\n",
    "    fits = toolbox.map(toolbox.evaluate, offspring)\n",
    "    for fit, ind in zip(fits, offspring):\n",
    "        ind.fitness.values = fit\n",
    "    population = toolbox.select(offspring, k = len(population))\n",
    "population\n",
    "# Obtendo o melhor indivíduo\n",
    "best_individual = tools.selBest(population, k = 1)[0]\n",
    "print(\"Melhor indivíduo:\", best_individual)"
   ]
  },
  {
   "cell_type": "code",
   "execution_count": 52,
   "metadata": {},
   "outputs": [
    {
     "data": {
      "text/html": [
       "<div>\n",
       "<style scoped>\n",
       "    .dataframe tbody tr th:only-of-type {\n",
       "        vertical-align: middle;\n",
       "    }\n",
       "\n",
       "    .dataframe tbody tr th {\n",
       "        vertical-align: top;\n",
       "    }\n",
       "\n",
       "    .dataframe thead th {\n",
       "        text-align: right;\n",
       "    }\n",
       "</style>\n",
       "<table border=\"1\" class=\"dataframe\">\n",
       "  <thead>\n",
       "    <tr style=\"text-align: right;\">\n",
       "      <th></th>\n",
       "      <th>age</th>\n",
       "      <th>hypertension</th>\n",
       "      <th>heart_disease</th>\n",
       "      <th>bmi</th>\n",
       "      <th>HbA1c_level</th>\n",
       "      <th>blood_glucose_level</th>\n",
       "    </tr>\n",
       "  </thead>\n",
       "  <tbody>\n",
       "    <tr>\n",
       "      <th>2547</th>\n",
       "      <td>5.0</td>\n",
       "      <td>0</td>\n",
       "      <td>0</td>\n",
       "      <td>15.14</td>\n",
       "      <td>4.5</td>\n",
       "      <td>90</td>\n",
       "    </tr>\n",
       "    <tr>\n",
       "      <th>34774</th>\n",
       "      <td>19.0</td>\n",
       "      <td>0</td>\n",
       "      <td>0</td>\n",
       "      <td>22.74</td>\n",
       "      <td>6.6</td>\n",
       "      <td>85</td>\n",
       "    </tr>\n",
       "    <tr>\n",
       "      <th>71084</th>\n",
       "      <td>52.0</td>\n",
       "      <td>0</td>\n",
       "      <td>0</td>\n",
       "      <td>24.27</td>\n",
       "      <td>7.5</td>\n",
       "      <td>220</td>\n",
       "    </tr>\n",
       "    <tr>\n",
       "      <th>50584</th>\n",
       "      <td>55.0</td>\n",
       "      <td>0</td>\n",
       "      <td>0</td>\n",
       "      <td>27.32</td>\n",
       "      <td>5.7</td>\n",
       "      <td>85</td>\n",
       "    </tr>\n",
       "    <tr>\n",
       "      <th>80788</th>\n",
       "      <td>22.0</td>\n",
       "      <td>0</td>\n",
       "      <td>0</td>\n",
       "      <td>28.78</td>\n",
       "      <td>4.5</td>\n",
       "      <td>200</td>\n",
       "    </tr>\n",
       "    <tr>\n",
       "      <th>...</th>\n",
       "      <td>...</td>\n",
       "      <td>...</td>\n",
       "      <td>...</td>\n",
       "      <td>...</td>\n",
       "      <td>...</td>\n",
       "      <td>...</td>\n",
       "    </tr>\n",
       "    <tr>\n",
       "      <th>81426</th>\n",
       "      <td>48.0</td>\n",
       "      <td>0</td>\n",
       "      <td>0</td>\n",
       "      <td>24.40</td>\n",
       "      <td>4.0</td>\n",
       "      <td>145</td>\n",
       "    </tr>\n",
       "    <tr>\n",
       "      <th>29016</th>\n",
       "      <td>51.0</td>\n",
       "      <td>0</td>\n",
       "      <td>0</td>\n",
       "      <td>27.37</td>\n",
       "      <td>3.5</td>\n",
       "      <td>130</td>\n",
       "    </tr>\n",
       "    <tr>\n",
       "      <th>95859</th>\n",
       "      <td>39.0</td>\n",
       "      <td>0</td>\n",
       "      <td>0</td>\n",
       "      <td>27.32</td>\n",
       "      <td>5.0</td>\n",
       "      <td>126</td>\n",
       "    </tr>\n",
       "    <tr>\n",
       "      <th>54987</th>\n",
       "      <td>40.0</td>\n",
       "      <td>0</td>\n",
       "      <td>0</td>\n",
       "      <td>25.28</td>\n",
       "      <td>6.5</td>\n",
       "      <td>126</td>\n",
       "    </tr>\n",
       "    <tr>\n",
       "      <th>36498</th>\n",
       "      <td>73.0</td>\n",
       "      <td>0</td>\n",
       "      <td>0</td>\n",
       "      <td>27.49</td>\n",
       "      <td>5.0</td>\n",
       "      <td>90</td>\n",
       "    </tr>\n",
       "  </tbody>\n",
       "</table>\n",
       "<p>28844 rows × 6 columns</p>\n",
       "</div>"
      ],
      "text/plain": [
       "        age  hypertension  heart_disease    bmi  HbA1c_level  \\\n",
       "2547    5.0             0              0  15.14          4.5   \n",
       "34774  19.0             0              0  22.74          6.6   \n",
       "71084  52.0             0              0  24.27          7.5   \n",
       "50584  55.0             0              0  27.32          5.7   \n",
       "80788  22.0             0              0  28.78          4.5   \n",
       "...     ...           ...            ...    ...          ...   \n",
       "81426  48.0             0              0  24.40          4.0   \n",
       "29016  51.0             0              0  27.37          3.5   \n",
       "95859  39.0             0              0  27.32          5.0   \n",
       "54987  40.0             0              0  25.28          6.5   \n",
       "36498  73.0             0              0  27.49          5.0   \n",
       "\n",
       "       blood_glucose_level  \n",
       "2547                    90  \n",
       "34774                   85  \n",
       "71084                  220  \n",
       "50584                   85  \n",
       "80788                  200  \n",
       "...                    ...  \n",
       "81426                  145  \n",
       "29016                  130  \n",
       "95859                  126  \n",
       "54987                  126  \n",
       "36498                   90  \n",
       "\n",
       "[28844 rows x 6 columns]"
      ]
     },
     "execution_count": 52,
     "metadata": {},
     "output_type": "execute_result"
    }
   ],
   "source": [
    "# Criar uma árvore de decisão com os atributos selecionados pelo indivíduo\n",
    "selected_features = [index for index in range(len(best_individual)) if best_individual[index] == 1]\n",
    "X_train_selected = X_train.iloc[:, selected_features]\n",
    "X_test_selected = X_test.iloc[:, selected_features]\n",
    "X_test_selected"
   ]
  },
  {
   "cell_type": "code",
   "execution_count": 38,
   "metadata": {},
   "outputs": [],
   "source": [
    "# Treinar o modelo final com os melhores indivíduos selecionados\n",
    "clf = GradientBoostingClassifier()\n",
    "clf.fit(X_train_selected, Y_train)\n",
    "Y_pred = clf.predict(X_test_selected)\n",
    "# Nessa parte do código, estamos treinando o modelo final utilizando a árvore de decisão com os atributos selecionados pelos melhores indivíduos encontrados pelo algoritmo genético.\n",
    "# Com isso, obtemos as previsões do modelo treinado utilizando apenas os atributos selecionados pelo algoritmo genético."
   ]
  },
  {
   "cell_type": "code",
   "execution_count": 39,
   "metadata": {},
   "outputs": [
    {
     "name": "stdout",
     "output_type": "stream",
     "text": [
      "Acurácia média:  0.970903313282632\n",
      "Desvio padrão das acurácias:  0.0005017399782918844\n"
     ]
    }
   ],
   "source": [
    "# Avaliação usando validação cruzada\n",
    "clf = GradientBoostingClassifier()\n",
    "scores = cross_val_score(clf, X_train_selected, Y_train, cv=5)  # cv define o número de dobras na validação cruzada\n",
    "\n",
    "# Imprimir os resultados\n",
    "print(\"Acurácia média: \", scores.mean())\n",
    "print(\"Desvio padrão das acurácias: \", scores.std())\n",
    "\n",
    "#O objetivo do código fornecido é realizar a avaliação do modelo de árvore de decisão utilizando a técnica de validação cruzada."
   ]
  },
  {
   "cell_type": "code",
   "execution_count": 36,
   "metadata": {},
   "outputs": [
    {
     "name": "stdout",
     "output_type": "stream",
     "text": [
      "2\n"
     ]
    }
   ],
   "source": [
    "# Calcular o número de classes com base nos rótulos de treinamento\n",
    "num_classes = len(np.unique(Y_train))\n",
    "print(num_classes)"
   ]
  }
 ],
 "metadata": {
  "kernelspec": {
   "display_name": "Python 3",
   "language": "python",
   "name": "python3"
  },
  "language_info": {
   "codemirror_mode": {
    "name": "ipython",
    "version": 3
   },
   "file_extension": ".py",
   "mimetype": "text/x-python",
   "name": "python",
   "nbconvert_exporter": "python",
   "pygments_lexer": "ipython3",
   "version": "3.11.3"
  },
  "orig_nbformat": 4
 },
 "nbformat": 4,
 "nbformat_minor": 2
}
